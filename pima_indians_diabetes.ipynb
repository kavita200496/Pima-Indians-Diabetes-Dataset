{
  "nbformat": 4,
  "nbformat_minor": 0,
  "metadata": {
    "colab": {
      "name": "pima-indians-diabetes.ipynb",
      "provenance": [],
      "authorship_tag": "ABX9TyNNZ0c+47ZMzfozapN459g3",
      "include_colab_link": true
    },
    "kernelspec": {
      "name": "python3",
      "display_name": "Python 3"
    }
  },
  "cells": [
    {
      "cell_type": "markdown",
      "metadata": {
        "id": "view-in-github",
        "colab_type": "text"
      },
      "source": [
        "<a href=\"https://colab.research.google.com/github/kavita200496/Pima-Indians-Diabetes-Dataset/blob/master/pima_indians_diabetes.ipynb\" target=\"_parent\"><img src=\"https://colab.research.google.com/assets/colab-badge.svg\" alt=\"Open In Colab\"/></a>"
      ]
    },
    {
      "cell_type": "code",
      "metadata": {
        "id": "O53SMUNInFOs",
        "colab_type": "code",
        "colab": {}
      },
      "source": [
        "import csv\n",
        "import math\n",
        "import random"
      ],
      "execution_count": 17,
      "outputs": []
    },
    {
      "cell_type": "code",
      "metadata": {
        "id": "VPhS0Lxjn7vf",
        "colab_type": "code",
        "colab": {}
      },
      "source": [
        "def loadCsv(filename):\n",
        "  lines = csv.reader(open(r'pima-indians-diabetes.csv'))\n",
        "  dataset = list(lines)\n",
        "  for i in range(len(dataset)):\n",
        "    dataset[i] = [float(x) for x in dataset[i]]\n",
        "  return dataset"
      ],
      "execution_count": 18,
      "outputs": []
    },
    {
      "cell_type": "code",
      "metadata": {
        "id": "zIzTMtFoocZw",
        "colab_type": "code",
        "colab": {}
      },
      "source": [
        "def splitDataset(dataset, splitRatio):\n",
        "  trainSize = int(len(dataset)*splitRatio)\n",
        "  trainSet = []\n",
        "  copy = list(dataset)\n",
        "  while len(trainSet) < trainSize:\n",
        "    index = random.randrange(len(copy))\n",
        "    trainSet.append(copy.pop(index))\n",
        "  return [trainSet, copy]"
      ],
      "execution_count": 19,
      "outputs": []
    },
    {
      "cell_type": "code",
      "metadata": {
        "id": "AgjRiemxrGnM",
        "colab_type": "code",
        "colab": {}
      },
      "source": [
        "def separateByClass(dataset):\n",
        "  separated = {}\n",
        "  for i in range(len(dataset)):\n",
        "    vector = dataset[i]\n",
        "    if (vector[-1] not in separated):\n",
        "      separated[vector[-1]] = []\n",
        "    separated[vector[-1]].append(vector)\n",
        "  return separated"
      ],
      "execution_count": 20,
      "outputs": []
    },
    {
      "cell_type": "code",
      "metadata": {
        "id": "Ss38Fl-ar3UC",
        "colab_type": "code",
        "colab": {}
      },
      "source": [
        "def mean(numbers):\n",
        "  return sum(numbers)/float(len(numbers))"
      ],
      "execution_count": 21,
      "outputs": []
    },
    {
      "cell_type": "code",
      "metadata": {
        "id": "UztSbj2ysZeE",
        "colab_type": "code",
        "colab": {}
      },
      "source": [
        "def stdev(numbers):\n",
        "  avg = mean(numbers)\n",
        "  variance = sum([pow(x-avg,2) for x in numbers])/float(len(numbers)-1)\n",
        "  return math.sqrt(variance)"
      ],
      "execution_count": 22,
      "outputs": []
    },
    {
      "cell_type": "code",
      "metadata": {
        "id": "SyIfsfUntEGF",
        "colab_type": "code",
        "colab": {}
      },
      "source": [
        "def summarize(dataset):\n",
        "  summaries = [(mean(attribute), stdev(attribute)) for attribute in zip(*dataset)]\n",
        "  del summaries[-1]\n",
        "  return summaries"
      ],
      "execution_count": 23,
      "outputs": []
    },
    {
      "cell_type": "code",
      "metadata": {
        "id": "GMF1vSSVtdWX",
        "colab_type": "code",
        "colab": {}
      },
      "source": [
        "def summarizeByClass(dataset):\n",
        "  separated = separateByClass(dataset)\n",
        "  summaries = {}\n",
        "  for classValue, instances in separated.items():\n",
        "    summaries[classValue] = summarize(instances)\n",
        "  return summaries"
      ],
      "execution_count": 24,
      "outputs": []
    },
    {
      "cell_type": "code",
      "metadata": {
        "id": "zkQDbL0yurLn",
        "colab_type": "code",
        "colab": {}
      },
      "source": [
        "def calculateProbability(x, mean, stdev):\n",
        "  exponent = math.exp(-(math.pow(x-mean,2)/(2*math.pow(stdev,2))))\n",
        "  return (1/(math.sqrt(2*math.pi)*stdev))*exponent"
      ],
      "execution_count": 25,
      "outputs": []
    },
    {
      "cell_type": "code",
      "metadata": {
        "id": "GCNoznrvw2lB",
        "colab_type": "code",
        "colab": {}
      },
      "source": [
        "def calculateClassProbabilities(summaries, inputVector):\n",
        "  probabilities = {}\n",
        "  for classValue, classSummaries in summaries.items():\n",
        "    probabilities[classValue] = 1\n",
        "    for i in range(len(classSummaries)):\n",
        "      mean, stdev = classSummaries[i]\n",
        "      x = inputVector[i]\n",
        "      probabilities[classValue] *= calculateProbability(x, mean, stdev)\n",
        "    return probabilities"
      ],
      "execution_count": 26,
      "outputs": []
    },
    {
      "cell_type": "code",
      "metadata": {
        "id": "eTfRhSDPxsnM",
        "colab_type": "code",
        "colab": {}
      },
      "source": [
        "def predict(summaries, inputVector):\n",
        "  probabilities = calculateClassProbabilities(summaries, inputVector)\n",
        "  bestLabel, bestProb = None, -1\n",
        "  for classValue, probability in probabilities.items():\n",
        "    if bestLabel is None or probability > bestProb:\n",
        "      bestProb = probability\n",
        "      bestLabel = classValue\n",
        "  return bestLabel"
      ],
      "execution_count": 27,
      "outputs": []
    },
    {
      "cell_type": "code",
      "metadata": {
        "id": "b3BVVANYzLir",
        "colab_type": "code",
        "colab": {}
      },
      "source": [
        "def getPredictions(summaries, testSet):\n",
        "  predictions = []\n",
        "  for i in range(len(testSet)):\n",
        "    result = predict(summaries, testSet[i])\n",
        "    predictions.append(result)\n",
        "  return predictions"
      ],
      "execution_count": 28,
      "outputs": []
    },
    {
      "cell_type": "code",
      "metadata": {
        "id": "KFqu189Hzo-1",
        "colab_type": "code",
        "colab": {}
      },
      "source": [
        "def getAccuracy(testSet, predictions):\n",
        "  correct = 0\n",
        "  for x in range(len(testSet)):\n",
        "    if testSet[x][-1] == predictions[x]:\n",
        "      correct += 1\n",
        "  return (correct/float(len(testSet)))*100.0"
      ],
      "execution_count": 29,
      "outputs": []
    },
    {
      "cell_type": "code",
      "metadata": {
        "id": "pPtKOQk509-c",
        "colab_type": "code",
        "colab": {
          "base_uri": "https://localhost:8080/",
          "height": 51
        },
        "outputId": "6b1e3923-12a7-4a62-c492-47e6e33916ba"
      },
      "source": [
        "def main():\n",
        "  filename = 'pima-indians-diabetes.csv'\n",
        "  splitRatio = 0.7\n",
        "  dataset = loadCsv(filename)\n",
        "  trainingSet, testSet = splitDataset(dataset, splitRatio)\n",
        "  print('Split {0} rows into train = {1} and test = {2} rows'.format(len(dataset),len(trainingSet), len(testSet)))\n",
        "  #prepare model\n",
        "  summaries = summarizeByClass(trainingSet)\n",
        "  #test model\n",
        "  predictions = getPredictions(summaries, testSet)\n",
        "  accuracy = getAccuracy(testSet, predictions)\n",
        "  print('Accuracy: {0}%'.format(accuracy))\n",
        "\n",
        "main()"
      ],
      "execution_count": 45,
      "outputs": [
        {
          "output_type": "stream",
          "text": [
            "Split 768 rows into train = 537 and test = 231 rows\n",
            "Accuracy: 63.20346320346321%\n"
          ],
          "name": "stdout"
        }
      ]
    },
    {
      "cell_type": "code",
      "metadata": {
        "id": "FcwJeIyy6H38",
        "colab_type": "code",
        "colab": {}
      },
      "source": [
        ""
      ],
      "execution_count": null,
      "outputs": []
    }
  ]
}